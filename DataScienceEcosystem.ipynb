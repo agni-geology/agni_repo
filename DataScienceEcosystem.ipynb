{
 "cells": [
  {
   "cell_type": "markdown",
   "id": "ec7bc463-aef3-46da-8be7-bb96e4983670",
   "metadata": {},
   "source": [
    "# Data Science Tools and Ecosystem"
   ]
  },
  {
   "cell_type": "markdown",
   "id": "979127a6-f1a9-473a-bfd0-88eccce4c61c",
   "metadata": {},
   "source": [
    "## In this notebook, Data Science Tools and Ecosystem are summarized.\n"
   ]
  },
  {
   "cell_type": "markdown",
   "id": "8ff35b18-8c07-43c0-bd9f-aaa87c7225e0",
   "metadata": {},
   "source": [
    "# **Objectives :**\n",
    "- List popular languages for Data Science\n",
    "- Some of the commonly used libraries used by Data Scientists include\n",
    "- Evaluating arithmetic expressions in Python "
   ]
  },
  {
   "cell_type": "markdown",
   "id": "bb9dfc76-60b0-46e4-b350-8f3fed0104c7",
   "metadata": {},
   "source": [
    "### Some of the popular languages that Data Scientists use are:\n",
    "1. Python\n",
    "2. R\n",
    "3. Java"
   ]
  },
  {
   "cell_type": "markdown",
   "id": "bc695a4b-4fce-45b3-926e-a0916bae089c",
   "metadata": {},
   "source": [
    "### Some of the commonly used libraries used by Data Scientists include:\n",
    "1. Numpy\n",
    "2. Pandas\n",
    "3. Matplotlib"
   ]
  },
  {
   "cell_type": "markdown",
   "id": "88f5bc30-30c5-43bf-871d-94c905a40d44",
   "metadata": {},
   "source": [
    "| Data Science Tools|\n",
    "| ------------------|\n",
    "| Jupyter Notebook|\n",
    "| RStudio|\n",
    "| Git Hub|"
   ]
  },
  {
   "cell_type": "markdown",
   "id": "c02fd80a-05ad-4bf2-ba62-63c94a58c23a",
   "metadata": {},
   "source": [
    "### Below are a few examples of evaluating arithmetic expressions in Python"
   ]
  },
  {
   "cell_type": "code",
   "execution_count": 5,
   "id": "80f8cdc6-45c7-43a7-84d8-ab6262781a1a",
   "metadata": {},
   "outputs": [
    {
     "data": {
      "text/plain": [
       "17"
      ]
     },
     "execution_count": 5,
     "metadata": {},
     "output_type": "execute_result"
    }
   ],
   "source": [
    "# This a simple arithmetic expression to mutiply then add integers\n",
    "(3*4)+5"
   ]
  },
  {
   "cell_type": "code",
   "execution_count": 6,
   "id": "a5012199-29cb-4e88-9b20-7865b822f401",
   "metadata": {},
   "outputs": [
    {
     "data": {
      "text/plain": [
       "3.3333333333333335"
      ]
     },
     "execution_count": 6,
     "metadata": {},
     "output_type": "execute_result"
    }
   ],
   "source": [
    "# This will convert 200 minutes to hours by diving by 60\n",
    "min= 200\n",
    "hrs= min/60\n",
    "hrs"
   ]
  },
  {
   "cell_type": "markdown",
   "id": "d55b0b41-33e3-42ae-97dc-ec28b64f48e3",
   "metadata": {},
   "source": [
    "## Author\n",
    "Agnidipto Basu"
   ]
  },
  {
   "cell_type": "code",
   "execution_count": null,
   "id": "80bae5d7-9920-459e-9933-3763bfc2d13e",
   "metadata": {},
   "outputs": [],
   "source": []
  }
 ],
 "metadata": {
  "kernelspec": {
   "display_name": "Python 3 (ipykernel)",
   "language": "python",
   "name": "python3"
  },
  "language_info": {
   "codemirror_mode": {
    "name": "ipython",
    "version": 3
   },
   "file_extension": ".py",
   "mimetype": "text/x-python",
   "name": "python",
   "nbconvert_exporter": "python",
   "pygments_lexer": "ipython3",
   "version": "3.12.3"
  }
 },
 "nbformat": 4,
 "nbformat_minor": 5
}
